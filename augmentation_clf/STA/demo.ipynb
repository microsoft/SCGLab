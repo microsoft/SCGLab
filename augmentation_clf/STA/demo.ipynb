{
 "cells": [
  {
   "cell_type": "markdown",
   "metadata": {},
   "source": [
    "# Demo1: Role Keywords Extraction (抽取角色关键词)"
   ]
  },
  {
   "cell_type": "code",
   "execution_count": 1,
   "metadata": {},
   "outputs": [
    {
     "name": "stderr",
     "output_type": "stream",
     "text": [
      "/Users/beyond/miniforge3/envs/sta/lib/python3.8/site-packages/gensim/similarities/__init__.py:15: UserWarning: The gensim.similarities.levenshtein submodule is disabled, because the optional Levenshtein package <https://pypi.org/project/python-Levenshtein/> is unavailable. Install Levenhstein (e.g. `pip install python-Levenshtein`) to suppress this warning.\n",
      "  warnings.warn(msg)\n"
     ]
    },
    {
     "name": "stdout",
     "output_type": "stream",
     "text": [
      "Language: English\n",
      "Loading word vectors......\n"
     ]
    }
   ],
   "source": [
    "from keywords_extractor import KeywordsExtractor\n",
    "KE = KeywordsExtractor(lang='en')"
   ]
  },
  {
   "cell_type": "code",
   "execution_count": 2,
   "metadata": {},
   "outputs": [],
   "source": [
    "# load training dataset\n",
    "import pandas as pd\n",
    "data = pd.read_csv('data/bbc_100/train.csv')\n",
    "contents = list(data['content'])\n",
    "labels = list(data['label'])"
   ]
  },
  {
   "cell_type": "code",
   "execution_count": 3,
   "metadata": {},
   "outputs": [
    {
     "name": "stdout",
     "output_type": "stream",
     "text": [
      "ls dict already exists at:  saved_keywords/global_ls_dict_bbc_100.pkl\n",
      "lr dict already exists at:  saved_keywords/global_lr_dict_bbc_100.pkl\n",
      "global roles dict already exists at:  saved_keywords/global_kws_dict_bbc_100.pkl\n"
     ]
    },
    {
     "data": {
      "text/plain": [
       "dict_keys(['global_ls', 'global_lr', 'global_roles'])"
      ]
     },
     "execution_count": 3,
     "metadata": {},
     "output_type": "execute_result"
    }
   ],
   "source": [
    "# extract keywords\n",
    "kws_dict = KE.global_role_kws_extraction_one_line(contents, labels, output_dir='saved_keywords',name='bbc_100')\n",
    "kws_dict.keys()"
   ]
  },
  {
   "cell_type": "code",
   "execution_count": 8,
   "metadata": {},
   "outputs": [
    {
     "name": "stdout",
     "output_type": "stream",
     "text": [
      "keywords for \"entertainment\":\n",
      "ccw: ['concerts', 'Music', 'festival', 'producer', 'movie', 'dance', 'gigs', 'Awards', 'concert', 'singers']\n",
      "scw: ['entertainment', 'media', 'news', 'online', 'social', 'culture', 'education', 'feature', 'features', 'world']\n",
      "fcw: ['Award', 'commit', 'Academy', 'bassist', 'copies', 'anniversary', 'Aids', 'Led', '8am', 'Will']\n",
      "iw: ['was', 'about', 'not', 'Mr', 'last', 'months', 'In', 'when', 'found', 'A']\n",
      "keywords for \"tech\":\n",
      "ccw: ['software', 'computer', 'PC', 'devices', 'gadget', 'Internet', 'broadband', 'video', 'images', 'technologies']\n",
      "scw: ['manufacturing', 'Google', 'telecoms', 'modern', 'energy', 'art', 'business', 'Hollywood', 'Chinese', 'businesses']\n",
      "fcw: ['distribute', 'improve', 'managing', 'listen', 'households', 'downloaded', 'sharing', 'Currently', 'broadcaster', 'severe']\n",
      "iw: ['had', 'his', 'singer', 'Sunday', 'rights', 'third', 'side', 'actions', 'second', 'spokesman']\n",
      "keywords for \"politics\":\n",
      "ccw: ['Labour', 'Liberal', 'Tories', 'Secretary', 'Blair', 'Democrats', 'Parliament', 'MPs', 'Democrat', 'Conservative']\n",
      "scw: ['culture', 'reform', 'matter', 'economic', 'business', 'education', 'Congress', 'history', 'always', 'ambitions']\n",
      "fcw: ['returned', 'claiming', 'poster', 'Cable', 'unveiled', 'jointly', 'Woodhill', 'lifting', 'vulnerable', 'burden']\n",
      "iw: ['additional', '$', 'performance', 'included', 'its', 'including', '%', 'Europe', 'receive', 'number']\n",
      "keywords for \"sport\":\n",
      "ccw: ['coach', 'champion', 'athletes', 'squad', 'athletics', 'athlete', 'Athletics', 'rugby', 'title', 'Sports']\n",
      "scw: ['professional', 'event', 'fans', 'something', 'country', 'matter', 'stadium', 'love', 'young', 'ever']\n",
      "fcw: ['Middlesbrough', 'Six', 'distributing', 'capt', 'initially', 'Cooperative', 'Goode', 'promptly', 'hamstring', 'repeat']\n",
      "iw: ['central', 'reports', 'by', 'On', 'New', 'In', 'October', 'review', 'Group', 'November']\n",
      "keywords for \"business\":\n",
      "ccw: ['profitable', 'profit', 'finance', 'fiscal', 'economic', 'fraud', 'Growth', 'operations', 'budget', 'bankruptcy']\n",
      "scw: ['commercial', 'services', 'technology', 'service', 'online', 'job', 'work', 'office', 'own', 'focus']\n",
      "fcw: ['crude', 'deficit', 'collapsed', 'fell', 'eased', 'suspended', 'falls', 'dramatic', 'deficits', 'highs']\n",
      "iw: ['ruled', 'version', 'He', 'BBC', \"n't\", 'stars', 'held', 'National', 'were', 'Americans']\n"
     ]
    }
   ],
   "source": [
    "for key in kws_dict['global_roles']:\n",
    "    print(f\"keywords for \\\"{key}\\\":\")\n",
    "    for each in ['ccw','scw','fcw','iw']:\n",
    "        print(f\"{each}: {kws_dict['global_roles'][key][each][:10]}\")"
   ]
  },
  {
   "cell_type": "code",
   "execution_count": 6,
   "metadata": {},
   "outputs": [
    {
     "data": {
      "text/plain": [
       "dict_keys(['lr', 'ls', 'ccw', 'scw', 'fcw', 'iw'])"
      ]
     },
     "execution_count": 6,
     "metadata": {},
     "output_type": "execute_result"
    }
   ],
   "source": []
  },
  {
   "cell_type": "markdown",
   "metadata": {},
   "source": [
    "# Demo2: Selective Text Augmentation (针对性文本增强)"
   ]
  },
  {
   "cell_type": "code",
   "execution_count": 39,
   "metadata": {},
   "outputs": [
    {
     "name": "stdout",
     "output_type": "stream",
     "text": [
      "Language: English\n"
     ]
    }
   ],
   "source": [
    "# from text_augmenter import TextAugmenter\n",
    "TA = TextAugmenter(lang='en')"
   ]
  },
  {
   "cell_type": "markdown",
   "metadata": {},
   "source": [
    "在`TextAugmenter`类中，对删除、替换、插入、顺序互换等增强操作(operations)做了统一的接口:\n",
    "- .aug_by_deletion(text, p, mode, selected_words)\n",
    "- .aug_by_replacement(text, p, mode, selected_words)\n",
    "- .aug_by_insertion(text, p, mode, selected_words)\n",
    "- .aug_by_swap(text, p, mode, selected_words)\n",
    "- .aug_by_selection(text, selected_words)\n",
    "\n",
    "上述5中方法中，除了`aug_by_selection()`之外，其余方法均可通过设置`mode='random'`或者`mode='selective'`来决定使用“随机”增强还是“针对性”增强。\n",
    "\n",
    "## 当使用随机增强时 (`mode='random'`):"
   ]
  },
  {
   "cell_type": "code",
   "execution_count": 11,
   "metadata": {},
   "outputs": [
    {
     "data": {
      "text/plain": [
       "\"Parmalat bank barred from suing\\n\\nBank of America has been banned from suing Parmalat, the food group which went bust in 2003 after an accounting scandal.\\n\\nThe bank - along with investors, auditors and the group's managers - wants damages for being a victim of fraud at the hands of the Italian firm. But a judge has barred Bank of America and two auditors from the case. The bank, and Italaudit - formerly the Italian arm of auditor Grant Thornton - face lawsuits and possible prosecution. A second auditor, Deloitte & Touche, has also been banned from the case. Grant Thornton - now rid of the Italian unit at the centre of the case - is still being permitted to sue, as are Consob, Italy's stock market regulator, hundreds of small investors and Parmalat's new managers. Parmalat collapsed in December 2003 after it emerged that the 4bn euros ($5.2bn; 拢2.8bn) it supposedly held in a Bank of American offshore account did not in fact exist.\\n\""
      ]
     },
     "execution_count": 11,
     "metadata": {},
     "output_type": "execute_result"
    }
   ],
   "source": [
    "contents[10]"
   ]
  },
  {
   "cell_type": "code",
   "execution_count": 41,
   "metadata": {},
   "outputs": [
    {
     "name": "stdout",
     "output_type": "stream",
     "text": [
      "Bank of America has been banned from suing Parmalat , the food group which went bust in 2003 after an accounting scandal\n",
      "Bank of America has been banned from suing Parmalat , the meal group which went bust in 2003 after an accounting scandal\n",
      "Bank of America has been banned from suing Parmalat becom_ing , the food group which went bust in food_pantries_shelters 2003 after an accounting scandal\n",
      "suing of America has been in from Bank Parmalat , the food group which went bust banned 2003 after an accounting scandal\n"
     ]
    }
   ],
   "source": [
    "sentence = \"Bank of America has been banned from suing Parmalat, the food group which went bust in 2003 after an accounting scandal\"\n",
    "p = 0.1\n",
    "print(' '.join(TA.aug_by_deletion(text=sentence,p=p,mode='random')))\n",
    "print(' '.join(TA.aug_by_replacement(text=sentence,p=p,mode='random')))\n",
    "print(' '.join(TA.aug_by_insertion(text=sentence,p=p,mode='random')))\n",
    "print(' '.join(TA.aug_by_swap(text=sentence,p=p,mode='random')))"
   ]
  },
  {
   "cell_type": "markdown",
   "metadata": {},
   "source": [
    "## 当使用针对性增强时 (`mode='selective'`)\n",
    "跟随机增强相比，针对性增强只需要指定对应的`selected_words`即可："
   ]
  },
  {
   "cell_type": "code",
   "execution_count": 42,
   "metadata": {},
   "outputs": [
    {
     "name": "stdout",
     "output_type": "stream",
     "text": [
      "Bank of America has been from suing Parmalat , the group which went bust in 2003 after an accounting scandal\n",
      "Bank of America has been prohibiting from suing Parmalat , the nourishing_meals group which went bust in 2003 after an accounting scandal\n",
      "Bank of America has been banned from suing prohibits Parmalat , the food group which nutritious_foods went bust in 2003 after an accounting scandal\n",
      "Bank of America has been group from suing Parmalat , the in banned which went bust food 2003 after an accounting scandal\n",
      "Bank accounting\n"
     ]
    }
   ],
   "source": [
    "print(' '.join(TA.aug_by_deletion(text=sentence,p=p,mode='selective',selected_words=['food','banned'])))\n",
    "print(' '.join(TA.aug_by_replacement(text=sentence,p=p,mode='selective',selected_words=['food','banned'])))\n",
    "print(' '.join(TA.aug_by_insertion(text=sentence,p=p,mode='selective',selected_words=['food','banned'])))\n",
    "print(' '.join(TA.aug_by_swap(text=sentence,p=p,mode='selective',selected_words=['food','banned'])))\n",
    "print(' '.join(TA.aug_by_selection(text=sentence, selected_words=['Bank','accounting'])))"
   ]
  },
  {
   "cell_type": "markdown",
   "metadata": {},
   "source": [
    "在文本分类任务中，不同的词可能会有不同的角色(roles)。在我们的论文中，我们提出如下规则：\n",
    "- 对于 deletion/replacement 操作，应避开 gold words\n",
    "- 对于 insertion 操作，应避开 venture words\n",
    "- 对于 selection 操作，直接选取 gold words 和标点"
   ]
  },
  {
   "cell_type": "code",
   "execution_count": 43,
   "metadata": {},
   "outputs": [],
   "source": [
    "# read saved keywords\n",
    "import pickle\n",
    "name = 'bbc_100'\n",
    "global_kws_dict_path = f'saved_keywords/global_kws_dict_{name}.pkl'\n",
    "with open(global_kws_dict_path, 'rb') as f:\n",
    "    global_kws_dict = pickle.load(f)"
   ]
  },
  {
   "cell_type": "code",
   "execution_count": 51,
   "metadata": {},
   "outputs": [
    {
     "name": "stdout",
     "output_type": "stream",
     "text": [
      "deletion info: ['banned', 'went']\n",
      "Bank of America has been from suing Parmalat , the food group which bust in 2003 after an accounting scandal\n",
      "replacement info: [('went', 'drove'), ('banned', 'ban')]\n",
      "Bank of America has been ban from suing Parmalat , the food group which drove bust in 2003 after an accounting scandal\n",
      "insertion info: [('accounting', 'Irina_Parkhomenko_spokeswoman'), ('went', 'gone')]\n",
      "Bank of America Irina_Parkhomenko_spokeswoman has been banned from suing Parmalat , the food group which went gone bust in 2003 after an accounting scandal\n",
      "selection info: Parmalat\n",
      "selection info: ,\n",
      "selection info: bust\n",
      "selection info: accounting\n",
      "Parmalat , bust accounting\n"
     ]
    }
   ],
   "source": [
    "category = 'business'\n",
    "kws = global_kws_dict[category]\n",
    "print(' '.join(TA.aug_by_deletion(sentence, p, 'selective', print_info=True,\n",
    "                   selected_words=kws['scw']+kws['fcw']+kws['iw'])))  # except ccw\n",
    "print(' '.join(TA.aug_by_replacement(sentence, p, 'selective', print_info=True,\n",
    "                   selected_words=kws['scw']+kws['fcw']+kws['iw'])))  # except ccw\n",
    "print(' '.join(TA.aug_by_insertion(sentence, p, 'selective', print_info=True,\n",
    "                   selected_words=kws['ccw']+kws['scw']+kws['iw'])))  # except ccw\n",
    "\n",
    "punc_list = [w for w in ',.，。!?！？;；、']\n",
    "print(' '.join(TA.aug_by_selection(sentence, print_info=True,\n",
    "                    selected_words=kws['ccw']+punc_list)))"
   ]
  },
  {
   "cell_type": "code",
   "execution_count": null,
   "metadata": {},
   "outputs": [],
   "source": []
  }
 ],
 "metadata": {
  "interpreter": {
   "hash": "02234bed3cd2dc303da6abe0b827f27eda7ac3184976385a9673fc1cde2c6f1a"
  },
  "kernelspec": {
   "display_name": "Python 3.8.10 64-bit ('sta': conda)",
   "name": "python3"
  },
  "language_info": {
   "codemirror_mode": {
    "name": "ipython",
    "version": 3
   },
   "file_extension": ".py",
   "mimetype": "text/x-python",
   "name": "python",
   "nbconvert_exporter": "python",
   "pygments_lexer": "ipython3",
   "version": "3.8.10"
  },
  "orig_nbformat": 4
 },
 "nbformat": 4,
 "nbformat_minor": 2
}